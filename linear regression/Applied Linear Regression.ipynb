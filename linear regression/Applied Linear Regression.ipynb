{
 "cells": [
  {
   "cell_type": "markdown",
   "metadata": {
    "id": "PaTU6AoPv5W5"
   },
   "source": [
    "# Linear Regression in Practice\n"
   ]
  },
  {
   "cell_type": "markdown",
   "metadata": {
    "id": "BFueTl6TwH-r"
   },
   "source": [
    "## Background\n",
    "\n",
    "**Regression problems** are supervised learning problems in which the target output variable is continuous. Contrast this with **Classification problems** (which we will treat separately), which are supervised learning problems in which the target is categorical in nature. \n",
    "\n",
    "**Linear regression** is a technique that is useful for regression problems. It is a simplistic way to model relationships with well known results (if certain assumptions are met).\n",
    "\n",
    "So, why are linear regression models useful in practice?\n",
    "\n",
    "- runs fast\n",
    "- easy to use (not a lot of tuning required)\n",
    "- highly interpretable\n",
    "- sets a good benchmark for other machine learning methods"
   ]
  },
  {
   "cell_type": "markdown",
   "metadata": {
    "id": "Y7kQi3JMwbDM"
   },
   "source": [
    "## Libraries\n",
    "\n",
    "We'll be using the [scikit-learn](http://scikit-learn.org/stable/) library for prediction and analysis of the models. \n",
    "\n",
    "We will also be using pandas library and some plotting tools for exploratory data analysis and data cleaning. "
   ]
  },
  {
   "cell_type": "code",
   "execution_count": 1,
   "metadata": {
    "executionInfo": {
     "elapsed": 1112,
     "status": "ok",
     "timestamp": 1606903783727,
     "user": {
      "displayName": "Chang Sun",
      "photoUrl": "",
      "userId": "05047479487397591495"
     },
     "user_tz": -480
    },
    "id": "bo_F7Wb0tfA0"
   },
   "outputs": [],
   "source": [
    "# imports\n",
    "import numpy as np\n",
    "import pandas as pd\n",
    "import seaborn as sns\n",
    "import matplotlib.pyplot as plt\n",
    "from sklearn.linear_model import LinearRegression\n",
    "from sklearn import metrics\n",
    "from sklearn.model_selection import train_test_split\n",
    "\n",
    "# allow plots to appear directly in the notebook\n",
    "%matplotlib inline\n",
    "sns.set()"
   ]
  },
  {
   "cell_type": "markdown",
   "metadata": {
    "id": "fQomYBJXuoVT"
   },
   "source": [
    "## Case Study: Advertising Data\n",
    "\n",
    "Let's explore some data related to marketing and sales, and then use linear regression to answer those questions!"
   ]
  },
  {
   "cell_type": "code",
   "execution_count": 4,
   "metadata": {
    "colab": {
     "base_uri": "https://localhost:8080/",
     "height": 204
    },
    "executionInfo": {
     "elapsed": 2098,
     "status": "ok",
     "timestamp": 1606903784732,
     "user": {
      "displayName": "Chang Sun",
      "photoUrl": "",
      "userId": "05047479487397591495"
     },
     "user_tz": -480
    },
    "id": "-6Vz-T7xvFc9",
    "outputId": "cec2498a-e2bf-4cc5-c064-f050a1e64968"
   },
   "outputs": [
    {
     "data": {
      "text/html": [
       "<div>\n",
       "<style scoped>\n",
       "    .dataframe tbody tr th:only-of-type {\n",
       "        vertical-align: middle;\n",
       "    }\n",
       "\n",
       "    .dataframe tbody tr th {\n",
       "        vertical-align: top;\n",
       "    }\n",
       "\n",
       "    .dataframe thead th {\n",
       "        text-align: right;\n",
       "    }\n",
       "</style>\n",
       "<table border=\"1\" class=\"dataframe\">\n",
       "  <thead>\n",
       "    <tr style=\"text-align: right;\">\n",
       "      <th></th>\n",
       "      <th>TV</th>\n",
       "      <th>Radio</th>\n",
       "      <th>Newspaper</th>\n",
       "      <th>Sales</th>\n",
       "    </tr>\n",
       "  </thead>\n",
       "  <tbody>\n",
       "    <tr>\n",
       "      <th>1</th>\n",
       "      <td>230.1</td>\n",
       "      <td>37.8</td>\n",
       "      <td>69.2</td>\n",
       "      <td>22.1</td>\n",
       "    </tr>\n",
       "    <tr>\n",
       "      <th>2</th>\n",
       "      <td>44.5</td>\n",
       "      <td>39.3</td>\n",
       "      <td>45.1</td>\n",
       "      <td>10.4</td>\n",
       "    </tr>\n",
       "    <tr>\n",
       "      <th>3</th>\n",
       "      <td>17.2</td>\n",
       "      <td>45.9</td>\n",
       "      <td>69.3</td>\n",
       "      <td>9.3</td>\n",
       "    </tr>\n",
       "    <tr>\n",
       "      <th>4</th>\n",
       "      <td>151.5</td>\n",
       "      <td>41.3</td>\n",
       "      <td>58.5</td>\n",
       "      <td>18.5</td>\n",
       "    </tr>\n",
       "    <tr>\n",
       "      <th>5</th>\n",
       "      <td>180.8</td>\n",
       "      <td>10.8</td>\n",
       "      <td>58.4</td>\n",
       "      <td>12.9</td>\n",
       "    </tr>\n",
       "  </tbody>\n",
       "</table>\n",
       "</div>"
      ],
      "text/plain": [
       "      TV  Radio  Newspaper  Sales\n",
       "1  230.1   37.8       69.2   22.1\n",
       "2   44.5   39.3       45.1   10.4\n",
       "3   17.2   45.9       69.3    9.3\n",
       "4  151.5   41.3       58.5   18.5\n",
       "5  180.8   10.8       58.4   12.9"
      ]
     },
     "execution_count": 4,
     "metadata": {},
     "output_type": "execute_result"
    }
   ],
   "source": [
    "# read data into a DataFrame\n",
    "\n",
    "## Recall that pandas.read_csv is a function that loads data into a dataframe. \n",
    "## The data can be represented as a file on your computer or even a file that can be pulled from an online source.\n",
    "\n",
    "data = pd.read_csv('Advertising.csv', index_col=0)\n",
    "data.head()"
   ]
  },
  {
   "cell_type": "markdown",
   "metadata": {
    "id": "NtXdAVrTvO83"
   },
   "source": [
    "What are the **features** (i.e the predictor/input variables)?\n",
    "- TV: advertising dollars spent on TV for a single product in a given market (in thousands of dollars)\n",
    "- Radio: advertising dollars spent on Radio\n",
    "- Newspaper: advertising dollars spent on Newspaper\n",
    "\n",
    "What is the **response** (i.e the target/output variable)?\n",
    "- Sales: sales of a single product in a given market (in thousands of widgets)"
   ]
  },
  {
   "cell_type": "markdown",
   "metadata": {
    "id": "0sX_TrvZwCjw"
   },
   "source": [
    "### Exploratory Data Analysis"
   ]
  },
  {
   "cell_type": "markdown",
   "metadata": {
    "id": "EaXb0eniwIj3"
   },
   "source": [
    "Let's get a summary of the data and all the nuances:"
   ]
  },
  {
   "cell_type": "code",
   "execution_count": 38,
   "metadata": {
    "colab": {
     "base_uri": "https://localhost:8080/"
    },
    "executionInfo": {
     "elapsed": 2081,
     "status": "ok",
     "timestamp": 1606903784733,
     "user": {
      "displayName": "Chang Sun",
      "photoUrl": "",
      "userId": "05047479487397591495"
     },
     "user_tz": -480
    },
    "id": "3oTOgLlFvXJy",
    "outputId": "c1f8d5ec-65ef-4a97-d984-361850994985"
   },
   "outputs": [
    {
     "data": {
      "text/plain": [
       "(200, 4)"
      ]
     },
     "execution_count": 38,
     "metadata": {
      "tags": []
     },
     "output_type": "execute_result"
    }
   ],
   "source": [
    "# print the shape of the DataFrame\n",
    "data.shape"
   ]
  },
  {
   "cell_type": "code",
   "execution_count": 39,
   "metadata": {
    "colab": {
     "base_uri": "https://localhost:8080/"
    },
    "executionInfo": {
     "elapsed": 2069,
     "status": "ok",
     "timestamp": 1606903784735,
     "user": {
      "displayName": "Chang Sun",
      "photoUrl": "",
      "userId": "05047479487397591495"
     },
     "user_tz": -480
    },
    "id": "3DzOJfzFv9QA",
    "outputId": "3ad1e9fc-914e-4637-ceea-8860376fbc9a"
   },
   "outputs": [
    {
     "name": "stdout",
     "output_type": "stream",
     "text": [
      "<class 'pandas.core.frame.DataFrame'>\n",
      "Int64Index: 200 entries, 1 to 200\n",
      "Data columns (total 4 columns):\n",
      " #   Column     Non-Null Count  Dtype  \n",
      "---  ------     --------------  -----  \n",
      " 0   TV         200 non-null    float64\n",
      " 1   radio      200 non-null    float64\n",
      " 2   newspaper  200 non-null    float64\n",
      " 3   sales      200 non-null    float64\n",
      "dtypes: float64(4)\n",
      "memory usage: 7.8 KB\n"
     ]
    }
   ],
   "source": [
    "# Get a high level overview of the data:\n",
    "## Information includes column name, column types and any potential missing values.\n",
    "\n",
    "data.info()"
   ]
  },
  {
   "cell_type": "code",
   "execution_count": 40,
   "metadata": {
    "colab": {
     "base_uri": "https://localhost:8080/",
     "height": 297
    },
    "executionInfo": {
     "elapsed": 2056,
     "status": "ok",
     "timestamp": 1606903784737,
     "user": {
      "displayName": "Chang Sun",
      "photoUrl": "",
      "userId": "05047479487397591495"
     },
     "user_tz": -480
    },
    "id": "mssal3lTwP-9",
    "outputId": "b37cf07f-59cd-400f-e6be-de3f892fd979"
   },
   "outputs": [
    {
     "data": {
      "text/html": [
       "<div>\n",
       "<style scoped>\n",
       "    .dataframe tbody tr th:only-of-type {\n",
       "        vertical-align: middle;\n",
       "    }\n",
       "\n",
       "    .dataframe tbody tr th {\n",
       "        vertical-align: top;\n",
       "    }\n",
       "\n",
       "    .dataframe thead th {\n",
       "        text-align: right;\n",
       "    }\n",
       "</style>\n",
       "<table border=\"1\" class=\"dataframe\">\n",
       "  <thead>\n",
       "    <tr style=\"text-align: right;\">\n",
       "      <th></th>\n",
       "      <th>TV</th>\n",
       "      <th>radio</th>\n",
       "      <th>newspaper</th>\n",
       "      <th>sales</th>\n",
       "    </tr>\n",
       "  </thead>\n",
       "  <tbody>\n",
       "    <tr>\n",
       "      <th>count</th>\n",
       "      <td>200.000000</td>\n",
       "      <td>200.000000</td>\n",
       "      <td>200.000000</td>\n",
       "      <td>200.000000</td>\n",
       "    </tr>\n",
       "    <tr>\n",
       "      <th>mean</th>\n",
       "      <td>147.042500</td>\n",
       "      <td>23.264000</td>\n",
       "      <td>30.554000</td>\n",
       "      <td>14.022500</td>\n",
       "    </tr>\n",
       "    <tr>\n",
       "      <th>std</th>\n",
       "      <td>85.854236</td>\n",
       "      <td>14.846809</td>\n",
       "      <td>21.778621</td>\n",
       "      <td>5.217457</td>\n",
       "    </tr>\n",
       "    <tr>\n",
       "      <th>min</th>\n",
       "      <td>0.700000</td>\n",
       "      <td>0.000000</td>\n",
       "      <td>0.300000</td>\n",
       "      <td>1.600000</td>\n",
       "    </tr>\n",
       "    <tr>\n",
       "      <th>25%</th>\n",
       "      <td>74.375000</td>\n",
       "      <td>9.975000</td>\n",
       "      <td>12.750000</td>\n",
       "      <td>10.375000</td>\n",
       "    </tr>\n",
       "    <tr>\n",
       "      <th>50%</th>\n",
       "      <td>149.750000</td>\n",
       "      <td>22.900000</td>\n",
       "      <td>25.750000</td>\n",
       "      <td>12.900000</td>\n",
       "    </tr>\n",
       "    <tr>\n",
       "      <th>75%</th>\n",
       "      <td>218.825000</td>\n",
       "      <td>36.525000</td>\n",
       "      <td>45.100000</td>\n",
       "      <td>17.400000</td>\n",
       "    </tr>\n",
       "    <tr>\n",
       "      <th>max</th>\n",
       "      <td>296.400000</td>\n",
       "      <td>49.600000</td>\n",
       "      <td>114.000000</td>\n",
       "      <td>27.000000</td>\n",
       "    </tr>\n",
       "  </tbody>\n",
       "</table>\n",
       "</div>"
      ],
      "text/plain": [
       "               TV       radio   newspaper       sales\n",
       "count  200.000000  200.000000  200.000000  200.000000\n",
       "mean   147.042500   23.264000   30.554000   14.022500\n",
       "std     85.854236   14.846809   21.778621    5.217457\n",
       "min      0.700000    0.000000    0.300000    1.600000\n",
       "25%     74.375000    9.975000   12.750000   10.375000\n",
       "50%    149.750000   22.900000   25.750000   12.900000\n",
       "75%    218.825000   36.525000   45.100000   17.400000\n",
       "max    296.400000   49.600000  114.000000   27.000000"
      ]
     },
     "execution_count": 40,
     "metadata": {
      "tags": []
     },
     "output_type": "execute_result"
    }
   ],
   "source": [
    "# Get a high level summary of each column\n",
    "\n",
    "## Since the columns are numeric in nature, we can get a summary of aggregates for each column.\n",
    "\n",
    "data.describe()"
   ]
  },
  {
   "cell_type": "markdown",
   "metadata": {
    "id": "qpy_AvOgwRbi"
   },
   "source": [
    "There seem to be no missing values and no illogical values (i.e negative quantities), which is a good sign of a clean dataset."
   ]
  },
  {
   "cell_type": "markdown",
   "metadata": {
    "id": "t1Hn1QexyQ47"
   },
   "source": [
    "Let's now use some plots to visualise the dataset:"
   ]
  },
  {
   "cell_type": "code",
   "execution_count": 5,
   "metadata": {
    "colab": {
     "base_uri": "https://localhost:8080/",
     "height": 513
    },
    "executionInfo": {
     "elapsed": 4350,
     "status": "ok",
     "timestamp": 1606903787052,
     "user": {
      "displayName": "Chang Sun",
      "photoUrl": "",
      "userId": "05047479487397591495"
     },
     "user_tz": -480
    },
    "id": "XQPXnJ_Ax0BO",
    "outputId": "b6952020-7360-4d9b-8475-52b7cb8de2ca"
   },
   "outputs": [
    {
     "data": {
      "image/png": "[encoded data removed]",
      "text/plain": [
       "<Figure size 1058.4x504 with 3 Axes>"
      ]
     },
     "metadata": {},
     "output_type": "display_data"
    }
   ],
   "source": [
    "# visualize the relationship between the features and the response using scatterplots\n",
    "sns.pairplot(data, x_vars=['TV','Radio','Newspaper'], y_vars='Sales', height=7, aspect=0.7, diag_kind = None);"
   ]
  },
  {
   "cell_type": "markdown",
   "metadata": {
    "id": "5R7wJYRCyT15"
   },
   "source": [
    "What can you tell from this dataset so far?"
   ]
  },
  {
   "cell_type": "markdown",
   "metadata": {
    "id": "QhY3zNxyylUf"
   },
   "source": [
    "## Questions About the Advertising Data\n",
    "\n",
    "Let's pretend you work for the company that manufactures and markets this widget. The company might ask you the following: On the basis of this data, how should we spend our advertising money in the future?\n",
    "\n",
    "This general question might lead you to more specific questions:\n",
    "1. Is there a relationship between ads and sales?\n",
    "2. How strong is that relationship?\n",
    "3. Which ad types contribute to sales?\n",
    "4. What is the effect of each ad type of sales?\n",
    "5. Given ad spending in a particular market, can sales be predicted? To what degree of error?\n",
    "\n",
    "We will explore these questions below!"
   ]
  },
  {
   "cell_type": "markdown",
   "metadata": {
    "id": "5TdMNQ44ypPt"
   },
   "source": [
    "Given that the diagrams above show some kind of correlation between sales and money spent on advertising, we can try to model a linear relationship between sales and the different types of ad spending:"
   ]
  },
  {
   "cell_type": "markdown",
   "metadata": {
    "id": "nfFskfn1z46V"
   },
   "source": [
    "## Simple Linear Regression"
   ]
  },
  {
   "cell_type": "markdown",
   "metadata": {
    "id": "i3rTBMaVWpiY"
   },
   "source": [
    "Recall we can impose a linear regression model for predicting the (continous) **response** using the **predictor variables** (or \"input variables\"). It takes the following form:\n",
    "\n",
    "$y^{pred}_i = \\sum_{j=0}^{k} \\beta_jX_{ij}$\n",
    "\n",
    "Where the representation of the terms are as follows:\n",
    "- $y_i$ is the response of the $i$th observed variable\n",
    "- $X_{ij}$ corresponds to the $j$th predictor value of the $i$th observed set of predictors\n",
    "- $\\beta_0$ is the intercept, (and $X_{i0}$ is fixed to be 1 for all $i$)\n",
    "- $\\beta_j$ are the coefficients for each predictor.\n",
    "- Also, assume that there are $k$ predictors. In the setup for the marketing data, $k = 3$\n",
    "\n",
    "Together, the $\\beta_i$ are called the **model coefficients**. To create your model, you must \"learn\" the values of these coefficients. And once we've learned these coefficients, we can use the model to predict Sales!"
   ]
  },
  {
   "cell_type": "markdown",
   "metadata": {
    "id": "mfbAbnrX0gaB"
   },
   "source": [
    "Recall as well we are trying to minimise the MSE with the gradient descent algorithm. Rather than trying to put the entire specification of the model into code ourselves, we can take advantage of the `scikit-learn` library to do so:"
   ]
  },
  {
   "cell_type": "code",
   "execution_count": 18,
   "metadata": {
    "colab": {
     "base_uri": "https://localhost:8080/"
    },
    "executionInfo": {
     "elapsed": 4333,
     "status": "ok",
     "timestamp": 1606903787053,
     "user": {
      "displayName": "Chang Sun",
      "photoUrl": "",
      "userId": "05047479487397591495"
     },
     "user_tz": -480
    },
    "id": "akoCbPds2IKi",
    "outputId": "5a7be232-7571-46b9-926b-28f0c9a8e3e5"
   },
   "outputs": [
    {
     "name": "stdout",
     "output_type": "stream",
     "text": [
      "7.032593549127693\n",
      "[0.04753664]\n"
     ]
    }
   ],
   "source": [
    "# create X and y\n",
    "feature_cols = ['TV']\n",
    "X = data.loc[:,feature_cols]\n",
    "y = data.loc[:,\"Sales\"]\n",
    "\n",
    "# instantiate and fit\n",
    "lm = LinearRegression()\n",
    "lm.fit(X.values, y)\n",
    "\n",
    "# print the coefficients\n",
    "print(lm.intercept_)\n",
    "print(lm.coef_)"
   ]
  },
  {
   "cell_type": "markdown",
   "metadata": {
    "id": "vv3A_f1_3JB0"
   },
   "source": [
    "### Using the Model for Prediction\n",
    "\n",
    "Let's say that there was a new market where the TV advertising spend was **$100,000**. What would we predict for the Sales in that market?\n",
    "\n",
    "$$y = \\beta_0 + \\beta_1x$$\n",
    "$$y = 7.032594 + 0.047537 \\times 100$$"
   ]
  },
  {
   "cell_type": "markdown",
   "metadata": {
    "id": "67L_CFv8_3dz"
   },
   "source": [
    "#### Prediction using `sklearn`"
   ]
  },
  {
   "cell_type": "code",
   "execution_count": 23,
   "metadata": {},
   "outputs": [],
   "source": [
    "x = np.array([[100]])"
   ]
  },
  {
   "cell_type": "code",
   "execution_count": 24,
   "metadata": {
    "colab": {
     "base_uri": "https://localhost:8080/"
    },
    "executionInfo": {
     "elapsed": 4322,
     "status": "ok",
     "timestamp": 1606903787055,
     "user": {
      "displayName": "Chang Sun",
      "photoUrl": "",
      "userId": "05047479487397591495"
     },
     "user_tz": -480
    },
    "id": "11ebOUkp86It",
    "outputId": "4d6de204-9fd3-4950-9ec0-dd15af0da3d7"
   },
   "outputs": [
    {
     "data": {
      "text/plain": [
       "array([11.78625759])"
      ]
     },
     "execution_count": 24,
     "metadata": {},
     "output_type": "execute_result"
    }
   ],
   "source": [
    "# predict for a new observation\n",
    "lm.predict(x)"
   ]
  },
  {
   "cell_type": "markdown",
   "metadata": {
    "id": "VNqQncq7AROA"
   },
   "source": [
    "Using the linear model, we would predict the sales of **11,786 widgets** in that market."
   ]
  },
  {
   "cell_type": "markdown",
   "metadata": {
    "id": "4EAXXnc0Agob"
   },
   "source": [
    "### Revisiting Least Squares Line\n",
    "\n",
    "As a matter of fact, seaborn has built in regression plots that gives us the least squares line automatically for the target versus each of the predictors:"
   ]
  },
  {
   "cell_type": "code",
   "execution_count": 44,
   "metadata": {
    "colab": {
     "base_uri": "https://localhost:8080/",
     "height": 442
    },
    "executionInfo": {
     "elapsed": 6278,
     "status": "ok",
     "timestamp": 1606903789026,
     "user": {
      "displayName": "Chang Sun",
      "photoUrl": "",
      "userId": "05047479487397591495"
     },
     "user_tz": -480
    },
    "id": "I9Qzi-7vCmdg",
    "outputId": "83def909-383d-49e3-b0b6-67f727ffad6c"
   },
   "outputs": [
    {
     "data": {
      "image/png": "[encoded data removed]",
      "text/plain": [
       "<Figure size 1512x504 with 3 Axes>"
      ]
     },
     "metadata": {
      "tags": []
     },
     "output_type": "display_data"
    }
   ],
   "source": [
    "sns.pairplot(data, x_vars=['TV','radio','newspaper'], y_vars='sales', height=7, aspect=1, kind='reg', diag_kind=None);\n"
   ]
  },
  {
   "cell_type": "markdown",
   "metadata": {
    "id": "pEfZskyKDFpA"
   },
   "source": [
    "Note that in the plots above, the shaded regions represent the confidence intervals of the estimates. One can observe that regions where there is a high density of observations correspond to tighter confidence bounds for the estimates and vice versa for areas of lower observation density. Spread of the data points around the prediction line affects the confidence interval as well. This naturally brings us to ask the question, how well does my model perform?"
   ]
  },
  {
   "cell_type": "markdown",
   "metadata": {
    "id": "_u9HzuCTeBRl"
   },
   "source": [
    "## How Well Does the Model Fit the data?\n"
   ]
  },
  {
   "cell_type": "markdown",
   "metadata": {
    "id": "7IrKYE5pPYoh"
   },
   "source": [
    "#### Model Evaluation Metrics: MSE"
   ]
  },
  {
   "cell_type": "markdown",
   "metadata": {
    "id": "nyzbR6RAPW2f"
   },
   "source": [
    "Recall that we had come up with the following evaluation metrics when discussing the objective function:\n",
    "\n",
    "- **Mean Squared Error** (MSE) is the mean of the squared errors:\n",
    "\n",
    "$$\\frac 1n\\sum_{i=1}^n(y_i-\\hat{y}_i)^2$$\n",
    "\n",
    "- **Root Mean Squared Error** (RMSE) is the square root of the mean of the squared errors:\n",
    "\n",
    "$$\\sqrt{\\frac 1n\\sum_{i=1}^n(y_i-\\hat{y}_i)^2}$$"
   ]
  },
  {
   "cell_type": "markdown",
   "metadata": {
    "id": "lXUQQ_EJQSiJ"
   },
   "source": [
    "We can leverage on the `sklearn` library to help us obtain these calculations instead of doing them manually:"
   ]
  },
  {
   "cell_type": "code",
   "execution_count": 45,
   "metadata": {
    "colab": {
     "base_uri": "https://localhost:8080/"
    },
    "executionInfo": {
     "elapsed": 6260,
     "status": "ok",
     "timestamp": 1606903789027,
     "user": {
      "displayName": "Chang Sun",
      "photoUrl": "",
      "userId": "05047479487397591495"
     },
     "user_tz": -480
    },
    "id": "LtLuMpVsPkzK",
    "outputId": "a8e853c4-3a8b-4aed-b62b-277fb229b064"
   },
   "outputs": [
    {
     "name": "stdout",
     "output_type": "stream",
     "text": [
      "150.0\n",
      "12.24744871391589\n"
     ]
    }
   ],
   "source": [
    "from sklearn.metrics import mean_squared_error\n",
    "\n",
    "# define true and predicted response values\n",
    "y_true = [100, 50, 30, 20]\n",
    "y_pred = [90, 50, 50, 30]\n",
    "\n",
    "# calculate MSE, RMSE\n",
    "\n",
    "print(metrics.mean_squared_error(y_true, y_pred))\n",
    "print(np.sqrt(metrics.mean_squared_error(y_true, y_pred)))"
   ]
  },
  {
   "cell_type": "markdown",
   "metadata": {
    "id": "QQaQd3iyPlbs"
   },
   "source": [
    "Checking the MSE and rMSE for the predictions give:"
   ]
  },
  {
   "cell_type": "code",
   "execution_count": 46,
   "metadata": {
    "colab": {
     "base_uri": "https://localhost:8080/"
    },
    "executionInfo": {
     "elapsed": 6249,
     "status": "ok",
     "timestamp": 1606903789029,
     "user": {
      "displayName": "Chang Sun",
      "photoUrl": "",
      "userId": "05047479487397591495"
     },
     "user_tz": -480
    },
    "id": "BBLmNWLPPrp4",
    "outputId": "295bf798-edf2-4cda-867a-e13f67c5130a"
   },
   "outputs": [
    {
     "name": "stdout",
     "output_type": "stream",
     "text": [
      "10.512652915656757\n",
      "3.2423221486546887\n"
     ]
    }
   ],
   "source": [
    "y_pred = lm.predict(X)\n",
    "\n",
    "print(metrics.mean_squared_error(y, y_pred))\n",
    "print(np.sqrt(metrics.mean_squared_error(y, y_pred)))"
   ]
  },
  {
   "cell_type": "markdown",
   "metadata": {
    "id": "8aqvZ4aZPvH4"
   },
   "source": [
    "The MSE \"punishes\" deviations from the true values. In practice, the rMSE is a more popular metric than MSE because rMSE is interpretable in scale of the actual target values.\n"
   ]
  },
  {
   "cell_type": "markdown",
   "metadata": {
    "id": "qH4G8dloPzef"
   },
   "source": [
    "#### Model Evaluation Metrics: The R-Squared"
   ]
  },
  {
   "cell_type": "markdown",
   "metadata": {
    "id": "sibybRQq6ODB"
   },
   "source": [
    "Another common way to evaluate the overall fit of a linear model is using the R-squared value. R-squared is the proportion of variance of the data explained, meaning the proportion of variance in the observed data that is explained by the model, on the estimation of the natural variance of the observed $y$ values. \n",
    "\n",
    "It is defined by the following formula:\n",
    "\n",
    "  $$\n",
    "  R^2 = 1 - \\frac{\\sum_i (y_i - \\hat{y}_i)^2}{\\sum_i (y_i - \\bar{y})^2}\n",
    "  $$\n",
    "\n",
    "The higher the $R^2$ the more indicative that the model has a better fit on the data.\n"
   ]
  },
  {
   "cell_type": "markdown",
   "metadata": {
    "id": "bs1cNwXc7y4L"
   },
   "source": [
    "Let's calculate the R-squared value for our simple linear model:\n"
   ]
  },
  {
   "cell_type": "markdown",
   "metadata": {
    "id": "Lr8QTrR2IKOk"
   },
   "source": [
    "You can use the built in methods in `sklearn` to compute the $R^2$ score too:"
   ]
  },
  {
   "cell_type": "code",
   "execution_count": 47,
   "metadata": {
    "colab": {
     "base_uri": "https://localhost:8080/"
    },
    "executionInfo": {
     "elapsed": 6237,
     "status": "ok",
     "timestamp": 1606903789032,
     "user": {
      "displayName": "Chang Sun",
      "photoUrl": "",
      "userId": "05047479487397591495"
     },
     "user_tz": -480
    },
    "id": "wXWgcWkOHCGU",
    "outputId": "49b354fd-5f76-4414-a705-b4a378a81be7"
   },
   "outputs": [
    {
     "data": {
      "text/plain": [
       "0.611875050850071"
      ]
     },
     "execution_count": 47,
     "metadata": {
      "tags": []
     },
     "output_type": "execute_result"
    }
   ],
   "source": [
    "# print the R-squared value for the model\n",
    "lm.score(X, y)"
   ]
  },
  {
   "cell_type": "markdown",
   "metadata": {
    "id": "oD6EDpQxHPLn"
   },
   "source": [
    "Is that a \"good\" R-squared value? It's hard to say. The threshold for a good R-squared value depends widely on the domain. Rather, it's more useful as a tool for comparing different models."
   ]
  },
  {
   "cell_type": "markdown",
   "metadata": {
    "id": "I3EieLP1HdM4"
   },
   "source": [
    "#### Increasing Model Fit (and Caveats)\n",
    "\n",
    "The $R^2$ statistic usually increases every time you add an **independent** variable to the model.\n",
    "\n",
    "A regression model that contains more independent variables than another model can look like it provides a better fit merely because it contains more variables.\n",
    "\n",
    "Let's see an example below, we will consider the full linear model as compared to a linear with a single predictor variable."
   ]
  },
  {
   "cell_type": "code",
   "execution_count": 48,
   "metadata": {
    "colab": {
     "base_uri": "https://localhost:8080/"
    },
    "executionInfo": {
     "elapsed": 6224,
     "status": "ok",
     "timestamp": 1606903789033,
     "user": {
      "displayName": "Chang Sun",
      "photoUrl": "",
      "userId": "05047479487397591495"
     },
     "user_tz": -480
    },
    "id": "dnblAAMyJT22",
    "outputId": "b85668dd-6cc9-409c-8b67-b48052885904"
   },
   "outputs": [
    {
     "data": {
      "text/plain": [
       "0.8972106381789521"
      ]
     },
     "execution_count": 48,
     "metadata": {
      "tags": []
     },
     "output_type": "execute_result"
    }
   ],
   "source": [
    "# create X and y\n",
    "\n",
    "X_all = data.drop([\"sales\"],axis=1)\n",
    "y_all = data.loc[:,\"sales\"]\n",
    "\n",
    "# instantiate and fit\n",
    "lm_all_sklearn = LinearRegression()\n",
    "lm_all_sklearn.fit(X_all, y_all)\n",
    "\n",
    "#Check the r-squared score\n",
    "lm_all_sklearn.score(X_all,y_all)\n"
   ]
  },
  {
   "cell_type": "markdown",
   "metadata": {
    "id": "xHusaTPOQ96I"
   },
   "source": [
    "When a model contains an excessive number of independent variables, it becomes overly customized to fit the peculiarities and random noise in your sample rather than reflecting the entire population. Thus, blindly chasing a high $R^2$ value might lead to some very misleading results. \n",
    "\n",
    "This is known as *overfitting*, which means that the model might have been overspecified to the data used to train the model leading to good results for that particular data but a decreased capability for precise predictions on data the model has not \"seen\" before."
   ]
  },
  {
   "cell_type": "markdown",
   "metadata": {
    "id": "VkIu-GP1RpqB"
   },
   "source": [
    "There is an alternative to R-squared called [adjusted R-squared](https://www.statisticshowto.com/adjusted-r2/) which penalizes model complexity (to control for overfitting), but it generally under-penalizes complexity - as such we will not go into the specifics here. We will explore a more robust method to diagnose overfitting.\n",
    "\n"
   ]
  },
  {
   "cell_type": "markdown",
   "metadata": {
    "id": "00Xh3yO1R81e"
   },
   "source": [
    "### Summary"
   ]
  },
  {
   "cell_type": "markdown",
   "metadata": {
    "id": "PPYI5RFvSovp"
   },
   "source": [
    "So far, we have implemented Linear Regression on the following:\n",
    "\n",
    "1. Using a single predictor.\n",
    "2. Using all available predictors.\n",
    "\n",
    "Which led to varying results. \n",
    "\n",
    "There are many more statistics (which are out of scope of this tutorial) that can be used to evaluate a goodness of fit on the data."
   ]
  },
  {
   "cell_type": "markdown",
   "metadata": {
    "id": "wpt5qsikTGBm"
   },
   "source": [
    "It can be surmised that the full Linear Regression model does better in terms of fitting the data but is this truly the case?"
   ]
  },
  {
   "cell_type": "markdown",
   "metadata": {
    "id": "YPhCe1xtwbrE"
   },
   "source": [
    "## Exploring the Bias-Variance Tradeoff"
   ]
  },
  {
   "cell_type": "markdown",
   "metadata": {
    "id": "S_KQoi9mGTJ3"
   },
   "source": [
    "As we have seen before, measuring the performance of the model depends on the metric that we use. In general, the choice of an appropriate metric heavily depends on the problem.\n",
    "\n",
    "- In the case of predictive modelling in regression as we have seen above, we could gauge whether the model performs well by measuring the prediction error. In the raw form this could be represented by the MSE or we could use the $R^2$ score.\n",
    "- In the case where we might be more interested in inference, we may be more interested in the statistical properties of the parameter estimates, although this requires more assumptions on the model and the data to hold.\n",
    "\n",
    "So far, we have setup the machine learning problem such that we seek to find the parameter values that minimise the MSE. The key fact in this set up is that we are aiming to reduce the MSE for data that is **observed**.\n",
    "\n",
    "However, what a truly performant model seeks to achieve is not just the best predictions (i.e lowest MSE) on observed data, but rather the true value of the model comes from being able to make good predictions on data that is unseen. That is, we want to be able to make good **out-of-sample** predictions. \n",
    "\n",
    "*Remark: The concept of out-of-sample errors will be further elucidated in another section. Right now we will talk about errors generally.*"
   ]
  },
  {
   "cell_type": "markdown",
   "metadata": {
    "id": "QLzZGm8e7MkM"
   },
   "source": [
    "When considering model performance characteristics, there are facets that are impacted by the choice of the model:\n",
    "\n",
    "  - **Bias**: This can be thought of as the error caused by the simplifying assumptions built into the method. E.g., when approximating a non-linear function using a learning method for linear models, there will be error in the estimates due to this assumption. Models with high bias are, loosely speaking, said to *underfit* the data.\n",
    "  \n",
    "  - **Variance**: This can be understood as a measure of the amount that the estimate of the target function will change if different training data was used. Models with high variance are said to *overfit* the data."
   ]
  },
  {
   "cell_type": "markdown",
   "metadata": {
    "id": "IBjIzeAf8Bef"
   },
   "source": [
    "We want to find a model that minimises both bias and variance. However there is often a trade-off.\n",
    "\n",
    "Let's consider the following examples to see how bias and variance can change depending on the model chosen:"
   ]
  },
  {
   "cell_type": "markdown",
   "metadata": {
    "id": "7kdaKD1oD12N"
   },
   "source": [
    "#### Case 1: Bias and Variance for a Simple Linear Model"
   ]
  },
  {
   "cell_type": "code",
   "execution_count": 49,
   "metadata": {
    "executionInfo": {
     "elapsed": 6215,
     "status": "ok",
     "timestamp": 1606903789035,
     "user": {
      "displayName": "Chang Sun",
      "photoUrl": "",
      "userId": "05047479487397591495"
     },
     "user_tz": -480
    },
    "id": "aBlZdbWYgt30"
   },
   "outputs": [],
   "source": [
    "# Let's generate some predictor, X values and have the y values depend on them somewhat non-linearly:\n",
    "\n",
    "np.random.seed(12345)\n",
    "\n",
    "X_gen = np.random.random(300)*10\n",
    "y_gen = (np.sin(X_gen) + np.random.normal(scale=1,size=X_gen.size))"
   ]
  },
  {
   "cell_type": "code",
   "execution_count": 56,
   "metadata": {
    "executionInfo": {
     "elapsed": 2365,
     "status": "ok",
     "timestamp": 1606905451659,
     "user": {
      "displayName": "Chang Sun",
      "photoUrl": "",
      "userId": "05047479487397591495"
     },
     "user_tz": -480
    },
    "id": "zgPjOLMm7WVQ"
   },
   "outputs": [],
   "source": [
    "X_gen = np.array([0, 1, 2])\n",
    "y_gen = np.array([0, 1, 4])"
   ]
  },
  {
   "cell_type": "code",
   "execution_count": 55,
   "metadata": {
    "colab": {
     "base_uri": "https://localhost:8080/"
    },
    "executionInfo": {
     "elapsed": 1403,
     "status": "ok",
     "timestamp": 1606903992886,
     "user": {
      "displayName": "Chang Sun",
      "photoUrl": "",
      "userId": "05047479487397591495"
     },
     "user_tz": -480
    },
    "id": "Q47Jo7om78xV",
    "outputId": "4b21f790-8ebc-49fb-b265-ef06b6ca7588"
   },
   "outputs": [
    {
     "data": {
      "text/plain": [
       "0    0    9.296161\n",
       "1    0    3.163756\n",
       "2    0    1.839188\n",
       "3    0    2.045603\n",
       "4    0    5.677250\n",
       "            ...   \n",
       "295  0    1.371371\n",
       "296  0    9.994142\n",
       "297  0    5.073272\n",
       "298  0    4.930667\n",
       "299  0    1.868748\n",
       "Length: 300, dtype: float64"
      ]
     },
     "execution_count": 55,
     "metadata": {
      "tags": []
     },
     "output_type": "execute_result"
    }
   ],
   "source": [
    "df.unstack()"
   ]
  },
  {
   "cell_type": "code",
   "execution_count": null,
   "metadata": {
    "id": "i_JA2Tbd7Qvr"
   },
   "outputs": [],
   "source": [
    "x_gen = np.array()"
   ]
  },
  {
   "cell_type": "code",
   "execution_count": 17,
   "metadata": {
    "colab": {
     "base_uri": "https://localhost:8080/",
     "height": 285
    },
    "executionInfo": {
     "elapsed": 7319,
     "status": "ok",
     "timestamp": 1606901801726,
     "user": {
      "displayName": "Chang Sun",
      "photoUrl": "",
      "userId": "05047479487397591495"
     },
     "user_tz": -480
    },
    "id": "EAZp9ERBhYBx",
    "outputId": "dda5f5ae-1590-4ddb-9a20-fda9cb28c826"
   },
   "outputs": [
    {
     "data": {
      "text/plain": [
       "<matplotlib.axes._subplots.AxesSubplot at 0x7f340c114278>"
      ]
     },
     "execution_count": 17,
     "metadata": {
      "tags": []
     },
     "output_type": "execute_result"
    },
    {
     "data": {
      "image/png": "[encoded data removed]",
      "text/plain": [
       "<Figure size 432x288 with 1 Axes>"
      ]
     },
     "metadata": {
      "tags": []
     },
     "output_type": "display_data"
    }
   ],
   "source": [
    "# Visualise the results of the generated data\n",
    "\n",
    "sns.scatterplot(x=X_gen,y=y_gen)"
   ]
  },
  {
   "cell_type": "markdown",
   "metadata": {
    "id": "yB9-xzGOjI2u"
   },
   "source": [
    "Now, let's use a linear model to make predictions."
   ]
  },
  {
   "cell_type": "code",
   "execution_count": 18,
   "metadata": {
    "executionInfo": {
     "elapsed": 7318,
     "status": "ok",
     "timestamp": 1606901801728,
     "user": {
      "displayName": "Chang Sun",
      "photoUrl": "",
      "userId": "05047479487397591495"
     },
     "user_tz": -480
    },
    "id": "xI2C5DTejngq"
   },
   "outputs": [],
   "source": [
    "# Use a simple Linear Regression model to make predictions\n",
    "\n",
    "lm_gen = LinearRegression()\n",
    "\n",
    "lm_gen.fit(X_gen[:,np.newaxis],y_gen)\n",
    "\n",
    "predictions_gen = lm_gen.predict(X_gen[:,np.newaxis])"
   ]
  },
  {
   "cell_type": "code",
   "execution_count": 19,
   "metadata": {
    "colab": {
     "base_uri": "https://localhost:8080/",
     "height": 285
    },
    "executionInfo": {
     "elapsed": 7298,
     "status": "ok",
     "timestamp": 1606901801729,
     "user": {
      "displayName": "Chang Sun",
      "photoUrl": "",
      "userId": "05047479487397591495"
     },
     "user_tz": -480
    },
    "id": "8IRRAIdwl4re",
    "outputId": "7ee20898-10df-4444-b475-bb31535db118"
   },
   "outputs": [
    {
     "data": {
      "text/plain": [
       "<matplotlib.axes._subplots.AxesSubplot at 0x7f3406876c18>"
      ]
     },
     "execution_count": 19,
     "metadata": {
      "tags": []
     },
     "output_type": "execute_result"
    },
    {
     "data": {
      "image/png": "[encoded data removed]",
      "text/plain": [
       "<Figure size 432x288 with 1 Axes>"
      ]
     },
     "metadata": {
      "tags": []
     },
     "output_type": "display_data"
    }
   ],
   "source": [
    "# Plot the model on a scatterplot\n",
    "\n",
    "# Either plot the scatterplot manually or use the lmplot from seaborn\n",
    "\n",
    "# Manual Version\n",
    "fig,ax = plt.subplots(1,1)\n",
    "sns.scatterplot(x=X_gen,y=y_gen,ax=ax)\n",
    "sns.lineplot(x=X_gen,y=predictions_gen,ax=ax, color=\"red\")"
   ]
  },
  {
   "cell_type": "code",
   "execution_count": 20,
   "metadata": {
    "colab": {
     "base_uri": "https://localhost:8080/"
    },
    "executionInfo": {
     "elapsed": 7285,
     "status": "ok",
     "timestamp": 1606901801731,
     "user": {
      "displayName": "Chang Sun",
      "photoUrl": "",
      "userId": "05047479487397591495"
     },
     "user_tz": -480
    },
    "id": "9ML36tWVnfU0",
    "outputId": "fb1e5844-238f-4385-a839-c84891cdf5db"
   },
   "outputs": [
    {
     "data": {
      "text/plain": [
       "0.003319582591887693"
      ]
     },
     "execution_count": 20,
     "metadata": {
      "tags": []
     },
     "output_type": "execute_result"
    }
   ],
   "source": [
    "# Measure the R-Squared of the linear regression model on the given data\n",
    "\n",
    "lm_gen.score(X_gen[:,np.newaxis],y_gen)"
   ]
  },
  {
   "cell_type": "markdown",
   "metadata": {
    "id": "IYb6Gfnv8hIp"
   },
   "source": [
    "How would you evaluate the Linear Regression model's performance in this setting?\n",
    "\n",
    "In this context we have data where the target/response variable is related to the predictor variables in a non-linear fashion (by design). By using a Linear Model in this case we are imposing the assumption that the variables ARE indeed linearly dependent. \n",
    "\n",
    "This mismatch of the assumption with reality leads to misleading results. The linear model fails to capture the essence of this information simply due to the fact that we are missing on other factors that explain this variation. In this instance, we say that the model has *high bias* or has *underfit* the (observed) data."
   ]
  },
  {
   "cell_type": "markdown",
   "metadata": {
    "id": "1B-j71_cp8Vz"
   },
   "source": [
    "In order to make sense of the model variance, one needs to consider what happens when the model has been trained on different sets of data. Let's "
   ]
  },
  {
   "cell_type": "code",
   "execution_count": 21,
   "metadata": {
    "executionInfo": {
     "elapsed": 7263,
     "status": "ok",
     "timestamp": 1606901801733,
     "user": {
      "displayName": "Chang Sun",
      "photoUrl": "",
      "userId": "05047479487397591495"
     },
     "user_tz": -480
    },
    "id": "LlD8PWIstV_X"
   },
   "outputs": [],
   "source": [
    "# Use the generated data as before. Except now we will generate two independent sets of data.\n",
    "\n",
    "np.random.seed(12345)\n",
    "\n",
    "X_gen_1 = np.random.random(300)*10\n",
    "X_gen_2 = np.random.random(300)*10\n",
    "y_gen_1 = (np.sin(X_gen_1) + np.random.normal(scale=1,size=X_gen_1.size))\n",
    "y_gen_2 = ( np.sin(X_gen_2) + np.random.normal(scale=1,size=X_gen_2.size))\n"
   ]
  },
  {
   "cell_type": "code",
   "execution_count": 22,
   "metadata": {
    "executionInfo": {
     "elapsed": 7251,
     "status": "ok",
     "timestamp": 1606901801736,
     "user": {
      "displayName": "Chang Sun",
      "photoUrl": "",
      "userId": "05047479487397591495"
     },
     "user_tz": -480
    },
    "id": "NObBQhKO1PJ9"
   },
   "outputs": [],
   "source": [
    "# Combine the two sets of data into a dataframe and add a new column indicate the group membership for each datapoint\n",
    "\n",
    "X_gen_full = np.concatenate([X_gen_1,X_gen_2]).reshape(-1,1)\n",
    "X_class = np.concatenate([np.repeat(1,X_gen_1.size),np.repeat(2,X_gen_2.size)]).reshape(-1,1)\n",
    "\n",
    "y_gen_full = np.concatenate([y_gen_1,y_gen_2]).reshape(-1,1)\n",
    "\n",
    "\n",
    "gen_data = pd.DataFrame(data=np.concatenate([X_gen_full,y_gen_full,X_class],axis=1),columns=[\"X\",\"y\",\"Group\"])"
   ]
  },
  {
   "cell_type": "code",
   "execution_count": 23,
   "metadata": {
    "colab": {
     "base_uri": "https://localhost:8080/",
     "height": 399
    },
    "executionInfo": {
     "elapsed": 8076,
     "status": "ok",
     "timestamp": 1606901802575,
     "user": {
      "displayName": "Chang Sun",
      "photoUrl": "",
      "userId": "05047479487397591495"
     },
     "user_tz": -480
    },
    "id": "15VVNkLBFj-Q",
    "outputId": "b97bcba1-f277-4fa5-b2b9-38604498ba5a"
   },
   "outputs": [
    {
     "data": {
      "text/plain": [
       "<seaborn.axisgrid.FacetGrid at 0x7f34067d1cc0>"
      ]
     },
     "execution_count": 23,
     "metadata": {
      "tags": []
     },
     "output_type": "execute_result"
    },
    {
     "data": {
      "image/png": "[encoded data removed]",
      "text/plain": [
       "<Figure size 720x360 with 2 Axes>"
      ]
     },
     "metadata": {
      "tags": []
     },
     "output_type": "display_data"
    }
   ],
   "source": [
    "# Plot the generated data on two separate grids and facet by group\n",
    "\n",
    "\n",
    "sns.lmplot(x=\"X\",y=\"y\",col=\"Group\",data=gen_data,line_kws={'color': 'red'})\n"
   ]
  },
  {
   "cell_type": "markdown",
   "metadata": {
    "id": "P56cu88lLOor"
   },
   "source": [
    "The line looks pretty similar between the two plots, despite the fact that they used separate samples of data.\n",
    "\n"
   ]
  },
  {
   "cell_type": "markdown",
   "metadata": {
    "id": "QmaWhyNhLtld"
   },
   "source": [
    "It's easier to see the degree of similarity by placing them on the same plot:"
   ]
  },
  {
   "cell_type": "code",
   "execution_count": 24,
   "metadata": {
    "colab": {
     "base_uri": "https://localhost:8080/",
     "height": 742
    },
    "executionInfo": {
     "elapsed": 9295,
     "status": "ok",
     "timestamp": 1606901803804,
     "user": {
      "displayName": "Chang Sun",
      "photoUrl": "",
      "userId": "05047479487397591495"
     },
     "user_tz": -480
    },
    "id": "hmgYNS7KGj-I",
    "outputId": "703c6ad0-667a-4988-bf70-2c87b6c1e7dc"
   },
   "outputs": [
    {
     "data": {
      "image/png": "[encoded data removed]",
      "text/plain": [
       "<Figure size 776.975x720 with 1 Axes>"
      ]
     },
     "metadata": {
      "tags": []
     },
     "output_type": "display_data"
    }
   ],
   "source": [
    "# hue='sample' subsets the data by sample and creates a single plot\n",
    "\n",
    "\n",
    "sns.lmplot(x='X', y='y', data=gen_data, ci=None, hue='Group', scatter_kws={'alpha':0.3}, height=10,aspect=1);\n"
   ]
  },
  {
   "cell_type": "markdown",
   "metadata": {
    "id": "87RVf8bOHUMI"
   },
   "source": [
    "Although the slopes of the lines are slightly different, the model predictions do not vary too wildly from each other, which is good indication of a model variance that is not too high."
   ]
  },
  {
   "cell_type": "markdown",
   "metadata": {
    "id": "d8ygtiBXGqQC"
   },
   "source": [
    "#### Case 2: Bias and Variance for a slightly more complex model."
   ]
  },
  {
   "cell_type": "markdown",
   "metadata": {
    "id": "AttLIOfANMau"
   },
   "source": [
    "What would a low bias, high variance model look like? Let's consider a linear model with fifteen terms, with each term being the predictor raised to a higher power. This is known as polynomial regression, in particular an fifteenth order polynomial represented by:\n",
    "\n",
    "$$\n",
    "y^{pred} = \\sum_{j=0}^{15} \\beta_{j}x^{j}\n",
    "$$"
   ]
  },
  {
   "cell_type": "markdown",
   "metadata": {
    "id": "1VC-SbeKPehM"
   },
   "source": [
    "This is still a linear model (w.r.t. $\\beta$) but with added complexities due to considering higher order transformations of the predictor. We will not be going through this model in detail but this is just an extension of the simple Linear Regression to account for potential non-linearity in the terms."
   ]
  },
  {
   "cell_type": "code",
   "execution_count": 25,
   "metadata": {
    "colab": {
     "base_uri": "https://localhost:8080/",
     "height": 382
    },
    "executionInfo": {
     "elapsed": 10699,
     "status": "ok",
     "timestamp": 1606901805225,
     "user": {
      "displayName": "Chang Sun",
      "photoUrl": "",
      "userId": "05047479487397591495"
     },
     "user_tz": -480
    },
    "id": "BX7wpzC5PgZ2",
    "outputId": "bbd29a4c-c64f-4822-8151-387956c24da7"
   },
   "outputs": [
    {
     "data": {
      "image/png": "[encoded data removed]",
      "text/plain": [
       "<Figure size 720x360 with 2 Axes>"
      ]
     },
     "metadata": {
      "tags": []
     },
     "output_type": "display_data"
    }
   ],
   "source": [
    "\n",
    "sns.lmplot(x='X', y='y', data=gen_data, ci=None, col='Group', order=15,line_kws={'color': 'red'});"
   ]
  },
  {
   "cell_type": "markdown",
   "metadata": {
    "id": "dkSHLm_cRQAd"
   },
   "source": [
    "What can we observe from the plots above?\n",
    "\n",
    "- The model seems to be attuned to the general shape (or pattern of the data).\n",
    "- Remember, the errors of prediction have a systematic component to it, and in our case the irreducible errors due to the natural variance of the data seems to quite large.\n",
    "- Because it fits the general shape of the data better than the simple linear model, we can loosely say it has lower *bias*.\n",
    "- However, the shapes of the model trained on the different samples data are very different in terms of the shapes. This is a clear indication of a large model variance. \n"
   ]
  },
  {
   "cell_type": "markdown",
   "metadata": {
    "id": "Wpa_J_CeN7cH"
   },
   "source": [
    "#### The Lowdown"
   ]
  },
  {
   "cell_type": "markdown",
   "metadata": {
    "id": "xAIWSl8IGJbS"
   },
   "source": [
    "So, what was the point of this exercise? This was a visual demonstration of how the bias and variance changes with model complexity. In the examples above, we compared the bias and variance (loosely speaking) by at plots of a simple linear model with one slope parameter versus a more complex polynomial model that attempts to model non-linearity. \n",
    "\n",
    "In the demonstration above we can infer that the bias and variance of a model usually depend on the complexity of a model in the following ways:\n",
    "\n",
    "- Bias decreases with complexity.\n",
    "- Variance increases with complexity.\n",
    "\n",
    "This relationships is a rule of thumb rather than a formalism. Sometimes you can have a complex model with extremely high bias and variance and vice versa, although this cases are much more rare. \n",
    "\n",
    "In the case where we elect to use the Simple Linear Regression model, we have:\n",
    "\n",
    "  - High bias because it doesn't fit the data particularly well. \n",
    "  - Low variance because it doesn't change much depending upon which points happen to be in the sample.\n",
    "\n"
   ]
  },
  {
   "cell_type": "markdown",
   "metadata": {
    "id": "oyE75Ix2RfxV"
   },
   "source": [
    "#### The Tradeoff"
   ]
  },
  {
   "cell_type": "markdown",
   "metadata": {
    "id": "wg-XG5RJUW7R"
   },
   "source": [
    "In general if the model is too simplistic and has very few parameters, it will not be able to account for all the variances in the data. On the other hand, if our model has too large a number of parameters then, it might start to model the errors in the data itself - thus giving a high variance. However because of the larger number of parameters, we may find ourselves with a model that is more able to explain the relationships in the data better. \n",
    "\n",
    "The objective of machine learning is to find a model specification that is subject to the a good balance of bias and variance. Thus, we aim to try to find the model with a complexity within a goldilocks zone:\n",
    "\n",
    "<figure> \n",
    "<img src=\"https://miro.medium.com/max/1124/1*RQ6ICt_FBSx6mkAsGVwx8g.png\">\n",
    "<div style=\"text-align:center;\">\n",
    "<figcaption > Source: Seema Singh </figcaption> </div>\n",
    "</figure>\n",
    "\n",
    "\n"
   ]
  },
  {
   "cell_type": "markdown",
   "metadata": {
    "id": "9W2ovMOqU1aA"
   },
   "source": [
    "## Generalisation and Feature Selection\n"
   ]
  },
  {
   "cell_type": "markdown",
   "metadata": {
    "id": "bLpkRUV3U25n"
   },
   "source": [
    "Let's go back to our original problem with the sales data. We seek a model with a good feature set capable learning from the data and making the best predictions. In other words, the feature set should describe the data well, without attuning itself to any irrelevant noise. The question then becomes, how do I decide which features to include in a linear model to make it predict well?\n",
    "\n",
    "First up, how do we tell if it is able to predict well?\n",
    "\n",
    "So far, we have only seen and evaluated the models on the *observed* data. But the true indication of the model's performance only comes in evaluating on data that is unseen.\n",
    "\n",
    "In other words, does it generalise well? Or did the model simply memorise the data points it has seen?"
   ]
  },
  {
   "cell_type": "markdown",
   "metadata": {
    "id": "6NmMxYqCW_6m"
   },
   "source": [
    "### Splitting the Data"
   ]
  },
  {
   "cell_type": "markdown",
   "metadata": {
    "id": "kG1Yp5lJSj2R"
   },
   "source": [
    "\n",
    "How do we then evaluate the model on unseen data? An obvious method would be to go and collect new data points. But if that is not possible, a trick we can use it to split the data into two. \n",
    "\n",
    "By splitting the data into what we call a training set and a testing set, we can train the model on the former and evaluate it on the latter. The testing or test set is a proxy to any future data that we want to make predictions on.\n",
    "\n",
    "This is paradigm provides more reliable estimate of out-of-sample error, and thus are better for choosing which of your models will best generalize to out-of-sample data - which in turns measures the variance of the model.\n",
    "\n",
    "More importantly, the idea of data splitting can be applied to any model to measure generalisation errors. Many of the statistics described above (in the model summary) apply only to linear models with certain assumptions."
   ]
  },
  {
   "cell_type": "markdown",
   "metadata": {
    "id": "sxrmfNulZ0Oq"
   },
   "source": [
    "#### Train-Test Split"
   ]
  },
  {
   "cell_type": "markdown",
   "metadata": {
    "id": "UbQM22zEaK_S"
   },
   "source": [
    "Let's use train/test split with RMSE to see whether certain predictors should be kept in the model. The `sklearn` utilities allow us to easily split the data by random sampling."
   ]
  },
  {
   "cell_type": "markdown",
   "metadata": {
    "id": "b-CFX03peVd5"
   },
   "source": [
    "*Without Splitting*"
   ]
  },
  {
   "cell_type": "code",
   "execution_count": 26,
   "metadata": {
    "colab": {
     "base_uri": "https://localhost:8080/"
    },
    "executionInfo": {
     "elapsed": 10685,
     "status": "ok",
     "timestamp": 1606901805229,
     "user": {
      "displayName": "Chang Sun",
      "photoUrl": "",
      "userId": "05047479487397591495"
     },
     "user_tz": -480
    },
    "id": "WHXrwvRHcQLz",
    "outputId": "3d0434f8-f134-42f5-e7f6-76a46e6baca6"
   },
   "outputs": [
    {
     "name": "stdout",
     "output_type": "stream",
     "text": [
      "rMSE: 1.6687030593661927\n",
      "r2: 0.9472033895013762\n"
     ]
    }
   ],
   "source": [
    "# excluding newspaper\n",
    "X = data[['TV', 'radio']]\n",
    "y = data[\"sales\"]\n",
    "\n",
    "lm_full = LinearRegression()\n",
    "lm_full.fit(X, y)\n",
    "y_pred = lm_full.predict(X)\n",
    "print(f\"rMSE: {np.sqrt(metrics.mean_squared_error(y, y_pred))}\")\n",
    "print(f\"r2: {np.sqrt(metrics.r2_score(y, y_pred))}\")"
   ]
  },
  {
   "cell_type": "code",
   "execution_count": 27,
   "metadata": {
    "colab": {
     "base_uri": "https://localhost:8080/"
    },
    "executionInfo": {
     "elapsed": 10673,
     "status": "ok",
     "timestamp": 1606901805232,
     "user": {
      "displayName": "Chang Sun",
      "photoUrl": "",
      "userId": "05047479487397591495"
     },
     "user_tz": -480
    },
    "id": "-PJqX-E1b-RW",
    "outputId": "d4d3eaa8-dfd5-4a86-d2a5-8fdda49dfac8"
   },
   "outputs": [
    {
     "name": "stdout",
     "output_type": "stream",
     "text": [
      "rMSE: 1.6685701407225697\n",
      "r2: 0.9472120344352432\n"
     ]
    }
   ],
   "source": [
    "# including newspaper\n",
    "X = data[['TV','newspaper','radio']]\n",
    "y = data[\"sales\"]\n",
    "\n",
    "lm_full = LinearRegression()\n",
    "lm_full.fit(X, y)\n",
    "y_pred = lm_full.predict(X)\n",
    "print(f\"rMSE: {np.sqrt(metrics.mean_squared_error(y, y_pred))}\")\n",
    "print(f\"r2: {np.sqrt(metrics.r2_score(y, y_pred))}\")"
   ]
  },
  {
   "cell_type": "markdown",
   "metadata": {
    "id": "4BNPtKcPfIt5"
   },
   "source": [
    "You can see that adding the extra term causes the rMSE to decrease (which is desirable) but only by a miniscule amount. Does this necessarily mean it is a good predictor?"
   ]
  },
  {
   "cell_type": "markdown",
   "metadata": {
    "id": "OWsH-P9CgXzy"
   },
   "source": [
    "*With Splitting*"
   ]
  },
  {
   "cell_type": "markdown",
   "metadata": {
    "id": "qk1CIwwpguke"
   },
   "source": [
    "The `train_test_split` function is a data transformer that splits the data randomly and returns a tuple of four values:\n",
    "\n",
    "- The training set of predictor variables : `X_train`\n",
    "- The training set of target variables : `y_train`\n",
    "- The test set of predictor variables : `X_test`\n",
    "- The test set of target variables : `y_test`\n",
    "\n",
    "You can specify the proportions of the splits the function parameters described in the [documentation](https://scikit-learn.org/stable/modules/generated/sklearn.model_selection.train_test_split.html)."
   ]
  },
  {
   "cell_type": "code",
   "execution_count": 28,
   "metadata": {
    "colab": {
     "base_uri": "https://localhost:8080/"
    },
    "executionInfo": {
     "elapsed": 10672,
     "status": "ok",
     "timestamp": 1606901805242,
     "user": {
      "displayName": "Chang Sun",
      "photoUrl": "",
      "userId": "05047479487397591495"
     },
     "user_tz": -480
    },
    "id": "JorhD9xSb_3P",
    "outputId": "5af805d5-1b26-49cb-f9c1-07e4f0b23940"
   },
   "outputs": [
    {
     "name": "stdout",
     "output_type": "stream",
     "text": [
      "rMSE: 1.3879034699382888\n",
      "r2: 0.9579256204032183\n"
     ]
    }
   ],
   "source": [
    "# excluding newspaper\n",
    "X = data[['TV', 'radio']]\n",
    "y = data[\"sales\"]\n",
    "\n",
    "X_train, X_test, y_train, y_test = train_test_split(X, y, random_state=1)\n",
    "\n",
    "lm_full = LinearRegression()\n",
    "lm_full.fit(X_train, y_train)\n",
    "y_pred = lm_full.predict(X_test)\n",
    "print(f\"rMSE: {np.sqrt(metrics.mean_squared_error(y_test, y_pred))}\")\n",
    "print(f\"r2: {np.sqrt(metrics.r2_score(y_test, y_pred))}\")"
   ]
  },
  {
   "cell_type": "code",
   "execution_count": 29,
   "metadata": {
    "colab": {
     "base_uri": "https://localhost:8080/"
    },
    "executionInfo": {
     "elapsed": 10664,
     "status": "ok",
     "timestamp": 1606901805245,
     "user": {
      "displayName": "Chang Sun",
      "photoUrl": "",
      "userId": "05047479487397591495"
     },
     "user_tz": -480
    },
    "id": "yTC6tZX0cz-A",
    "outputId": "e3eecd27-4dde-424c-9342-f2eb54d4a32a"
   },
   "outputs": [
    {
     "name": "stdout",
     "output_type": "stream",
     "text": [
      "rMSE: 1.4046514230328957\n",
      "r2: 0.9568810591600313\n"
     ]
    }
   ],
   "source": [
    "# including newspaper\n",
    "X = data[['TV','newspaper','radio']]\n",
    "y = data[\"sales\"]\n",
    "\n",
    "X_train, X_test, y_train, y_test = train_test_split(X, y, random_state=1)\n",
    "lm_full = LinearRegression()\n",
    "lm_full.fit(X_train, y_train)\n",
    "y_pred = lm_full.predict(X_test)\n",
    "print(f\"rMSE: {np.sqrt(metrics.mean_squared_error(y_test, y_pred))}\")\n",
    "print(f\"r2: {np.sqrt(metrics.r2_score(y_test, y_pred))}\")"
   ]
  },
  {
   "cell_type": "markdown",
   "metadata": {
    "id": "widaeo09dMBh"
   },
   "source": [
    "In this case, the rMSE actually increased from adding the newspaper predictor.\n",
    "\n",
    "The above analysis makes the case that maybe the newspaper predictor has no bearing on the sales of the widgets.\n",
    "\n",
    "Remember, always test your model on data that have not been used for training! This is known as the *out-of-sample* data. By testing your model on *out-of-sample* data, you are evaluating the generalisation ability of the model.\n",
    "\n",
    "For the model to perform well, it needs to be tested on unseen data. This is known as the *generalisation* ability of the model. \n",
    "\n",
    "**To learn, is to generalise.**"
   ]
  },
  {
   "cell_type": "markdown",
   "metadata": {
    "id": "HaWBA5ORinnS"
   },
   "source": [
    "#### Feature Engineering"
   ]
  },
  {
   "cell_type": "markdown",
   "metadata": {
    "id": "P3myuq2xjlrq"
   },
   "source": [
    "Using the available data to perform machine learning is the preliminary step. However, there are many ways of improving the performance through clever manipulation of the data. This is known as feature engineering.\n",
    "\n",
    "More formally, feature engineering is defined as the process of using domain knowledge to extract features from raw data via data mining techniques. These features can be used to improve the performance of machine learning algorithms. Feature engineering is constantly used in practice and is a large domain in the field of applied machine learning.\n",
    "\n",
    "Ultimately, it goes without saying that the model's features influence the performance more than any other factor. In practice, the choice of models, along with the specification of the algorithm plays second fiddle to the information gain given by correct feature engineering.\n"
   ]
  },
  {
   "cell_type": "markdown",
   "metadata": {
    "id": "5HScUqe_txOi"
   },
   "source": [
    "There are multiple ways of engineering features:\n",
    "\n",
    "- One method of doing so would be to create new and relevant data using domain knowledge.\n",
    "- Another method would be performing transformation on the exist data. Note that there may be many transformations that one can use and there is no particular set of directives that will give you a good result. Hence it is a good idea to try many transformations and test them.\n",
    "\n",
    "We will look at a particular set of transformations to introduce some non-linearity into our model. Recall that a polynomial regression model can be expressed as a model with parameters for each predictor term raised to the $nth$ power. We can implement such a model as follows:"
   ]
  },
  {
   "cell_type": "markdown",
   "metadata": {
    "id": "vULLUzdeX9zT"
   },
   "source": [
    "Recall, we need to split the dataset up in order to test the model on out-of-sample data."
   ]
  },
  {
   "cell_type": "code",
   "execution_count": 30,
   "metadata": {
    "executionInfo": {
     "elapsed": 10663,
     "status": "ok",
     "timestamp": 1606901805247,
     "user": {
      "displayName": "Chang Sun",
      "photoUrl": "",
      "userId": "05047479487397591495"
     },
     "user_tz": -480
    },
    "id": "T1lg8chEX1PG"
   },
   "outputs": [],
   "source": [
    "# Split the data into training and test sets\n",
    "\n",
    "X_train_aug, X_test_aug, y_train_aug, y_test_aug = train_test_split(X_all,y_all,random_state=12345)"
   ]
  },
  {
   "cell_type": "markdown",
   "metadata": {
    "id": "4AcwoNw3YBIG"
   },
   "source": [
    "Now let's perform some transformations on the data such that we can have extra terms:"
   ]
  },
  {
   "cell_type": "code",
   "execution_count": 31,
   "metadata": {
    "colab": {
     "base_uri": "https://localhost:8080/"
    },
    "executionInfo": {
     "elapsed": 10653,
     "status": "ok",
     "timestamp": 1606901805248,
     "user": {
      "displayName": "Chang Sun",
      "photoUrl": "",
      "userId": "05047479487397591495"
     },
     "user_tz": -480
    },
    "id": "5hD86mOFvT5z",
    "outputId": "f9aa46ee-7078-41cf-cac9-3e6ef0d3f9e4"
   },
   "outputs": [
    {
     "data": {
      "text/plain": [
       "['1', 'x0', 'x1', 'x2', 'x0^2', 'x0 x1', 'x0 x2', 'x1^2', 'x1 x2', 'x2^2']"
      ]
     },
     "execution_count": 31,
     "metadata": {
      "tags": []
     },
     "output_type": "execute_result"
    }
   ],
   "source": [
    "# The trick is to augment the dataset using polynomial terms. This can be done with sklearn's preprocessing module\n",
    "\n",
    "from sklearn.preprocessing import PolynomialFeatures\n",
    "\n",
    "# Instantiate the PolynomialFeatures Transformer\n",
    "poly = PolynomialFeatures(degree=2) # The transformer will create terms up to the 2nd power as well as all the interaction terms in between.\n",
    "\n",
    "poly.fit(X_train_aug) # First, fit the polynomial transformer\n",
    "\n",
    "aug_train = poly.transform(X_train_aug) # Transform the training set using the transformer\n",
    "aug_test = poly.transform(X_test_aug) # Then, transform the test set using the transformer\n",
    "\n",
    "poly.get_feature_names()"
   ]
  },
  {
   "cell_type": "markdown",
   "metadata": {
    "id": "7dpLQHFYYdLX"
   },
   "source": [
    "If we look at the feature names, you can see that there is a term that is labelled as `\"1\"`. This is the intercept term that the Linear Regression model will already have considered. We can therefore omit this column when training and testing our model:"
   ]
  },
  {
   "cell_type": "code",
   "execution_count": 32,
   "metadata": {
    "executionInfo": {
     "elapsed": 10650,
     "status": "ok",
     "timestamp": 1606901805250,
     "user": {
      "displayName": "Chang Sun",
      "photoUrl": "",
      "userId": "05047479487397591495"
     },
     "user_tz": -480
    },
    "id": "4IF-OJikYoB9"
   },
   "outputs": [],
   "source": [
    "# Get rid of the first columns for both the training and testing data\n",
    "\n",
    "aug_train = aug_train[:,1:] \n",
    "aug_test = aug_test[:,1:]"
   ]
  },
  {
   "cell_type": "markdown",
   "metadata": {
    "id": "Ikt40vo2YwPM"
   },
   "source": [
    "We are now ready to perform Linear Regression with the augmented dataset:"
   ]
  },
  {
   "cell_type": "code",
   "execution_count": 33,
   "metadata": {
    "colab": {
     "base_uri": "https://localhost:8080/"
    },
    "executionInfo": {
     "elapsed": 10646,
     "status": "ok",
     "timestamp": 1606901805256,
     "user": {
      "displayName": "Chang Sun",
      "photoUrl": "",
      "userId": "05047479487397591495"
     },
     "user_tz": -480
    },
    "id": "qZUhy9z8xFc9",
    "outputId": "3bb742e0-2074-46a5-da4c-e0f5e2056985"
   },
   "outputs": [
    {
     "name": "stdout",
     "output_type": "stream",
     "text": [
      "Training Score: 0.9919876614787659\n",
      "Test Score: 0.9688567781034298\n"
     ]
    }
   ],
   "source": [
    "# Now fit the Linear Model with the augmented dataset\n",
    "\n",
    "lm_aug = LinearRegression()\n",
    "\n",
    "lm_aug.fit(aug_train,y_train_aug)\n",
    "\n",
    "# Obtain the R^2 for both training and test sets\n",
    "print(f\"Training Score: {lm_aug.score(aug_train,y_train_aug)}\")\n",
    "\n",
    "print(f\"Test Score: {lm_aug.score(aug_test,y_test_aug)}\")"
   ]
  },
  {
   "cell_type": "markdown",
   "metadata": {
    "id": "5DAnAkuuyCF7"
   },
   "source": [
    "#### Bonus Content: Qualitative Model Evaluation"
   ]
  },
  {
   "cell_type": "markdown",
   "metadata": {
    "id": "gFe7-kAdyG2c"
   },
   "source": [
    "As seen before, sometimes it is not enough to evaluate the model using a single metric. It is highly recommended that we look at prediction/realisation plots  in order to help us determine if indeed our model works out well for the given data."
   ]
  },
  {
   "cell_type": "code",
   "execution_count": 34,
   "metadata": {
    "colab": {
     "base_uri": "https://localhost:8080/",
     "height": 720
    },
    "executionInfo": {
     "elapsed": 11561,
     "status": "ok",
     "timestamp": 1606901806185,
     "user": {
      "displayName": "Chang Sun",
      "photoUrl": "",
      "userId": "05047479487397591495"
     },
     "user_tz": -480
    },
    "id": "8ECeIlWdyv2s",
    "outputId": "40561b6f-dbe0-416d-b26d-d080ac4737b7"
   },
   "outputs": [
    {
     "data": {
      "text/plain": [
       "<matplotlib.axes._subplots.AxesSubplot at 0x7f340658d4e0>"
      ]
     },
     "execution_count": 34,
     "metadata": {
      "tags": []
     },
     "output_type": "execute_result"
    },
    {
     "data": {
      "image/png": "[encoded data removed]",
      "text/plain": [
       "<Figure size 864x864 with 2 Axes>"
      ]
     },
     "metadata": {
      "tags": []
     },
     "output_type": "display_data"
    }
   ],
   "source": [
    "# Obtain the predictions\n",
    "\n",
    "y_pred_train = lm_aug.predict(aug_train)\n",
    "y_pred_test = lm_aug.predict(aug_test)\n",
    "\n",
    "\n",
    "# Plot the predicted values against the actual values\n",
    "\n",
    "fig, ax = plt.subplots(2,1,figsize=(12,12))\n",
    "sns.scatterplot(x=y_pred_train,y=y_train_aug, ax=ax[0])\n",
    "sns.scatterplot(x=y_pred_test, y=y_test_aug, ax=ax[1])\n",
    "\n",
    "# Plot the line where y=x\n",
    "\n",
    "ln = np.linspace(np.min([y_pred_train.min(),y_train_aug.min()]),np.max([y_pred_train.max(),y_train_aug.max()]),100)\n",
    "\n",
    "sns.lineplot(x=ln,y=ln,ax=ax[0],color=\"red\")\n",
    "sns.lineplot(x=ln,y=ln,ax=ax[1],color=\"red\")\n"
   ]
  },
  {
   "cell_type": "markdown",
   "metadata": {
    "id": "FZGhveP1bL5i"
   },
   "source": [
    "## Conclusion"
   ]
  },
  {
   "cell_type": "markdown",
   "metadata": {
    "id": "DUrE7MLNM4oU"
   },
   "source": [
    "The polynomial model yields a r-squared score that is higher than that of the basic linear model with the raw predictors. The plots show that the model is a good fit as well due to the prediction points being close to the $y=x$ line - meaning that the predictions are indeed close to the actual values. \n",
    "\n",
    "An exercise would be to compare the out-of-sample rMSE/r-squared of the models with different permutations of the predictors to see which set of predictors yields the linear model with the best performance."
   ]
  },
  {
   "cell_type": "markdown",
   "metadata": {
    "id": "ADjCheJtXBos"
   },
   "source": [
    "### What Didn't We Cover?\n",
    "\n",
    "- Detecting collinearity, i.e whether predictors rely on each other\n",
    "- Diagnosing model fit using statistical theory\n",
    "- Transforming features to fit non-linear relationships\n",
    "- Interaction terms\n",
    "- More statistical assumptions of linear regression\n",
    "\n",
    "You could certainly go very deep into linear regression, and learn how to apply it really well. It is an excellent way to **start your modeling process** when working a regression problem. Again, in the words of Yasser Abu Mostafa, a linear model will take you far.\n",
    "\n",
    "However, it is limited by the fact that it can only make good predictions if there is a **linear relationship** between the features and the response, which is why more complex methods (but often with higher variance and lower bias) will often outperform linear regression.\n",
    "\n",
    "Therefore, by understanding linear regression conceptually, as well as its strengths and weaknesses, you will have gained the understanding of creating a machine learning model to solve a prediction problem - which can be extended to other models in practice."
   ]
  }
 ],
 "metadata": {
  "colab": {
   "collapsed_sections": [],
   "name": "Applied Linear Regression.ipynb",
   "provenance": [
    {
     "file_id": "1bQRvrQ3f8hfIZXM8e8hACKmMVzuniW9S",
     "timestamp": 1598104599734
    }
   ]
  },
  "kernelspec": {
   "display_name": "Python 3 (ipykernel)",
   "language": "python",
   "name": "python3"
  },
  "language_info": {
   "codemirror_mode": {
    "name": "ipython",
    "version": 3
   },
   "file_extension": ".py",
   "mimetype": "text/x-python",
   "name": "python",
   "nbconvert_exporter": "python",
   "pygments_lexer": "ipython3",
   "version": "3.8.8"
  }
 },
 "nbformat": 4,
 "nbformat_minor": 1
}
